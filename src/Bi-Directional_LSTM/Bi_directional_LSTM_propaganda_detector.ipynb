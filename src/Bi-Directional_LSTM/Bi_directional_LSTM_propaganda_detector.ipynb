{
  "nbformat": 4,
  "nbformat_minor": 0,
  "metadata": {
    "colab": {
      "name": "LSTM_propaganda_detector.ipynb",
      "provenance": [],
      "collapsed_sections": []
    },
    "kernelspec": {
      "name": "python3",
      "display_name": "Python 3"
    },
    "accelerator": "GPU"
  },
  "cells": [
    {
      "cell_type": "code",
      "metadata": {
        "colab": {
          "base_uri": "https://localhost:8080/"
        },
        "id": "ygtzAGqhD_LF",
        "outputId": "270c1745-2369-4c89-ae6e-c02162f69824"
      },
      "source": [
        "import numpy as np \n",
        "import pandas as pd\n",
        "import matplotlib.pyplot as plt\n",
        "import seaborn as sns\n",
        "\n",
        "from sklearn.model_selection import train_test_split\n",
        "from sklearn.feature_extraction.text import CountVectorizer,TfidfTransformer\n",
        "\n",
        "from keras.preprocessing.text import Tokenizer\n",
        "from keras.models import Model\n",
        "from keras.preprocessing.sequence import pad_sequences\n",
        "from keras.models import Sequential\n",
        "from keras.layers import Dense, Embedding, TimeDistributed, LSTM, SpatialDropout1D, Bidirectional, Flatten,Activation\n",
        "from sklearn.model_selection import train_test_split\n",
        "from keras.utils.np_utils import to_categorical\n",
        "from keras.callbacks import EarlyStopping\n",
        "from keras.layers import Dropout\n",
        "import tensorflow as tf\n",
        "from tensorflow import keras\n",
        "from tensorflow.keras import layers\n",
        "\n",
        "from nltk import word_tokenize\n",
        "import nltk\n",
        "nltk.download('punkt')\n",
        "\n"
      ],
      "execution_count": 73,
      "outputs": [
        {
          "output_type": "stream",
          "text": [
            "[nltk_data] Downloading package punkt to /root/nltk_data...\n",
            "[nltk_data]   Package punkt is already up-to-date!\n"
          ],
          "name": "stdout"
        },
        {
          "output_type": "execute_result",
          "data": {
            "text/plain": [
              "True"
            ]
          },
          "metadata": {
            "tags": []
          },
          "execution_count": 73
        }
      ]
    },
    {
      "cell_type": "code",
      "metadata": {
        "id": "xnV74Sa30c7Y"
      },
      "source": [
        "data_path = '/content/drive/MyDrive/fake_news/cleaned_propaganda_data.csv'\n",
        "source = '/content/drive/MyDrive/fake_news/'\n",
        "\n",
        "df = pd.read_csv(data_path, delimiter=\"|\", header=None).sample(frac=1)"
      ],
      "execution_count": 137,
      "outputs": []
    },
    {
      "cell_type": "code",
      "metadata": {
        "colab": {
          "base_uri": "https://localhost:8080/"
        },
        "id": "X9cCsTXTuw8V",
        "outputId": "e0728131-9b96-41e7-e0db-22ce24e3e579"
      },
      "source": [
        "# The maximum number of words to be used. (most frequent)\n",
        "max_features = 55000 #almost like max_df = 0.2\n",
        "# Max number of words in each row\n",
        "sentence_len = 80\n",
        "size_of_embedding = 100\n",
        "\n",
        "tokenizer = Tokenizer(num_words= max_features, filters=\"'-\", lower=False, split=' ')\n",
        "tokenizer.fit_on_texts(df[0].values)\n",
        "word_index = tokenizer.word_index\n",
        "print('Found ',len(word_index),' unique tokens.')"
      ],
      "execution_count": 138,
      "outputs": [
        {
          "output_type": "stream",
          "text": [
            "Found  143269  unique tokens.\n"
          ],
          "name": "stdout"
        }
      ]
    },
    {
      "cell_type": "code",
      "metadata": {
        "id": "lYWeNG1Gevp9"
      },
      "source": [
        "X = tokenizer.texts_to_sequences(df[0].values)\n",
        "X = pad_sequences(X, maxlen=sentence_len)\n",
        "Y = pd.get_dummies(df[1]).values\n"
      ],
      "execution_count": null,
      "outputs": []
    },
    {
      "cell_type": "code",
      "metadata": {
        "colab": {
          "base_uri": "https://localhost:8080/"
        },
        "id": "-BaQDiSuu-lA",
        "outputId": "a9197231-972c-4c49-a90a-2b4ca8f49969"
      },
      "source": [
        "X_train, X_test, Y_train, Y_test = train_test_split(X,Y, test_size = 0.20, random_state = 1)\n",
        "X_valid, X_test, Y_valid, Y_test = train_test_split(X_test,Y_test, test_size = 0.5, random_state = 1)\n",
        "\n",
        "print(X_train.shape,Y_train.shape)\n",
        "print(X_test.shape,Y_test.shape)"
      ],
      "execution_count": 142,
      "outputs": [
        {
          "output_type": "stream",
          "text": [
            "(124061, 80) (124061, 2)\n",
            "(15508, 80) (15508, 2)\n"
          ],
          "name": "stdout"
        }
      ]
    },
    {
      "cell_type": "code",
      "metadata": {
        "colab": {
          "base_uri": "https://localhost:8080/"
        },
        "id": "IqlC6TIUvBRs",
        "outputId": "ea6e30bb-45cc-4f3e-f737-b7be73723c11"
      },
      "source": [
        "model = Sequential()\n",
        "model.add(Embedding(max_features,size_of_embedding, input_length=X.shape[1]))\n",
        "model.add(Bidirectional (LSTM (100,return_sequences=True,dropout=0.50),merge_mode='concat'))\n",
        "model.add(TimeDistributed(Dense(100,activation='relu')))\n",
        "model.add(Bidirectional (LSTM (100,return_sequences=True,dropout=0.50),merge_mode='concat'))\n",
        "model.add(Flatten())\n",
        "model.add(Dense(100,activation='relu'))\n",
        "\n",
        "model.add(Dense(2, activation='sigmoid'))\n",
        "model.compile(loss='binary_crossentropy', optimizer='adam', metrics=['accuracy'])\n",
        "\n",
        "model.summary()"
      ],
      "execution_count": 89,
      "outputs": [
        {
          "output_type": "stream",
          "text": [
            "Model: \"sequential_21\"\n",
            "_________________________________________________________________\n",
            "Layer (type)                 Output Shape              Param #   \n",
            "=================================================================\n",
            "embedding_28 (Embedding)     (None, 75, 100)           5500000   \n",
            "_________________________________________________________________\n",
            "bidirectional_33 (Bidirectio (None, 75, 200)           160800    \n",
            "_________________________________________________________________\n",
            "time_distributed_13 (TimeDis (None, 75, 100)           20100     \n",
            "_________________________________________________________________\n",
            "bidirectional_34 (Bidirectio (None, 75, 200)           160800    \n",
            "_________________________________________________________________\n",
            "flatten_7 (Flatten)          (None, 15000)             0         \n",
            "_________________________________________________________________\n",
            "dense_44 (Dense)             (None, 100)               1500100   \n",
            "_________________________________________________________________\n",
            "dense_45 (Dense)             (None, 2)                 202       \n",
            "=================================================================\n",
            "Total params: 7,342,002\n",
            "Trainable params: 7,342,002\n",
            "Non-trainable params: 0\n",
            "_________________________________________________________________\n"
          ],
          "name": "stdout"
        }
      ]
    },
    {
      "cell_type": "code",
      "metadata": {
        "colab": {
          "base_uri": "https://localhost:8080/"
        },
        "id": "ocg8fU62e6dz",
        "outputId": "8910b57d-0a4b-458e-ba92-98df64a4a532"
      },
      "source": [
        "# train LSTM and evaluate LSTM\n",
        "model.fit(X_train, Y_train, epochs=10, batch_size=64, verbose=2, validation_data=(X_valid, Y_valid)) #callbacks=[EarlyStopping(monitor='val_loss',min_delta=0.0001)]\n"
      ],
      "execution_count": 67,
      "outputs": [
        {
          "output_type": "stream",
          "text": [
            "Epoch 1/10\n",
            "1939/1939 - 154s - loss: 0.3965 - accuracy: 0.8220 - val_loss: 0.3409 - val_accuracy: 0.8542\n",
            "Epoch 2/10\n",
            "1939/1939 - 152s - loss: 0.2622 - accuracy: 0.8868 - val_loss: 0.3249 - val_accuracy: 0.8603\n",
            "Epoch 3/10\n",
            "1939/1939 - 151s - loss: 0.1812 - accuracy: 0.9244 - val_loss: 0.3588 - val_accuracy: 0.8594\n",
            "Epoch 4/10\n",
            "1939/1939 - 150s - loss: 0.1266 - accuracy: 0.9492 - val_loss: 0.3946 - val_accuracy: 0.8637\n",
            "Epoch 5/10\n",
            "1939/1939 - 148s - loss: 0.0916 - accuracy: 0.9643 - val_loss: 0.4931 - val_accuracy: 0.8670\n",
            "Epoch 6/10\n",
            "1939/1939 - 148s - loss: 0.0671 - accuracy: 0.9743 - val_loss: 0.5054 - val_accuracy: 0.8653\n",
            "Epoch 7/10\n",
            "1939/1939 - 148s - loss: 0.0527 - accuracy: 0.9802 - val_loss: 0.5149 - val_accuracy: 0.8656\n",
            "Epoch 8/10\n",
            "1939/1939 - 148s - loss: 0.0415 - accuracy: 0.9842 - val_loss: 0.7044 - val_accuracy: 0.8621\n",
            "Epoch 9/10\n",
            "1939/1939 - 148s - loss: 0.0341 - accuracy: 0.9874 - val_loss: 0.6321 - val_accuracy: 0.8697\n",
            "Epoch 10/10\n",
            "1939/1939 - 148s - loss: 0.0270 - accuracy: 0.9900 - val_loss: 0.7655 - val_accuracy: 0.8701\n"
          ],
          "name": "stdout"
        },
        {
          "output_type": "execute_result",
          "data": {
            "text/plain": [
              "<tensorflow.python.keras.callbacks.History at 0x7f87a5cb9dd8>"
            ]
          },
          "metadata": {
            "tags": []
          },
          "execution_count": 67
        }
      ]
    },
    {
      "cell_type": "code",
      "metadata": {
        "colab": {
          "base_uri": "https://localhost:8080/"
        },
        "id": "NDwa2yRkBaqw",
        "outputId": "ef5ed5b1-9d7b-43ef-9789-01d03b287da8"
      },
      "source": [
        "model = Sequential()\n",
        "model.add(Embedding(max_features, size_of_embedding, input_length=X.shape[1]))\n",
        "model.add(Bidirectional (LSTM (64,return_sequences=True)))\n",
        "model.add(Bidirectional (LSTM (64,return_sequences=True)))\n",
        "\n",
        "model.add(Flatten())\n",
        "\n",
        "model.add(Dense(2, activation='softmax'))\n",
        "model.compile(loss='binary_crossentropy', optimizer='adam', metrics=['accuracy'])\n",
        "\n",
        "model.summary()"
      ],
      "execution_count": 133,
      "outputs": [
        {
          "output_type": "stream",
          "text": [
            "Model: \"sequential_35\"\n",
            "_________________________________________________________________\n",
            "Layer (type)                 Output Shape              Param #   \n",
            "=================================================================\n",
            "embedding_45 (Embedding)     (None, 80, 100)           5500000   \n",
            "_________________________________________________________________\n",
            "bidirectional_68 (Bidirectio (None, 80, 128)           84480     \n",
            "_________________________________________________________________\n",
            "bidirectional_69 (Bidirectio (None, 80, 128)           98816     \n",
            "_________________________________________________________________\n",
            "flatten_18 (Flatten)         (None, 10240)             0         \n",
            "_________________________________________________________________\n",
            "dense_63 (Dense)             (None, 2)                 20482     \n",
            "=================================================================\n",
            "Total params: 5,703,778\n",
            "Trainable params: 5,703,778\n",
            "Non-trainable params: 0\n",
            "_________________________________________________________________\n"
          ],
          "name": "stdout"
        }
      ]
    },
    {
      "cell_type": "code",
      "metadata": {
        "colab": {
          "base_uri": "https://localhost:8080/"
        },
        "id": "UqbNsAoX7JwY",
        "outputId": "5a084562-14ff-4d18-bcd6-3a30f750c0f6"
      },
      "source": [
        "# train LSTM and evaluate LSTM\n",
        "model.fit(X_train, Y_train, epochs=5, batch_size=64, verbose=2, validation_data=(X_valid, Y_valid)) #callbacks=[EarlyStopping(monitor='val_loss',min_delta=0.0001)]\n"
      ],
      "execution_count": 131,
      "outputs": [
        {
          "output_type": "stream",
          "text": [
            "Epoch 1/6\n",
            "970/970 - 77s - loss: 0.3240 - accuracy: 0.8566 - val_loss: 0.2795 - val_accuracy: 0.8775\n",
            "Epoch 2/6\n",
            "970/970 - 74s - loss: 0.1879 - accuracy: 0.9237 - val_loss: 0.2774 - val_accuracy: 0.8862\n",
            "Epoch 3/6\n",
            "970/970 - 76s - loss: 0.1006 - accuracy: 0.9600 - val_loss: 0.3660 - val_accuracy: 0.8893\n",
            "Epoch 4/6\n",
            "970/970 - 75s - loss: 0.0510 - accuracy: 0.9804 - val_loss: 0.4643 - val_accuracy: 0.8895\n",
            "Epoch 5/6\n",
            "970/970 - 76s - loss: 0.0271 - accuracy: 0.9895 - val_loss: 0.5843 - val_accuracy: 0.8878\n",
            "Epoch 6/6\n",
            "970/970 - 76s - loss: 0.0178 - accuracy: 0.9934 - val_loss: 0.6612 - val_accuracy: 0.8904\n"
          ],
          "name": "stdout"
        },
        {
          "output_type": "execute_result",
          "data": {
            "text/plain": [
              "<tensorflow.python.keras.callbacks.History at 0x7f877e9c5cf8>"
            ]
          },
          "metadata": {
            "tags": []
          },
          "execution_count": 131
        }
      ]
    },
    {
      "cell_type": "code",
      "metadata": {
        "colab": {
          "base_uri": "https://localhost:8080/"
        },
        "id": "aOTOnAxWIRWz",
        "outputId": "4a6d5cee-1dbd-48de-c347-41b42e9e3538"
      },
      "source": [
        "model = Sequential()\n",
        "model.add(Embedding(max_features, size_of_embedding, input_length=X.shape[1]))\n",
        "model.add(Bidirectional (LSTM (64,return_sequences=True)))\n",
        "model.add(Bidirectional (LSTM (64,return_sequences=True)))\n",
        "model.add(Bidirectional (LSTM (100,return_sequences=True,dropout=0.50)))\n",
        "\n",
        "model.add(Flatten())\n",
        "#model.add(Dense(100,activation='relu'))\n",
        "\n",
        "model.add(Dense(2, activation='softmax'))\n",
        "model.compile(loss='binary_crossentropy', optimizer='adam', metrics=['accuracy'])\n",
        "\n",
        "model.summary()"
      ],
      "execution_count": 134,
      "outputs": [
        {
          "output_type": "stream",
          "text": [
            "Model: \"sequential_36\"\n",
            "_________________________________________________________________\n",
            "Layer (type)                 Output Shape              Param #   \n",
            "=================================================================\n",
            "embedding_46 (Embedding)     (None, 80, 100)           5500000   \n",
            "_________________________________________________________________\n",
            "bidirectional_70 (Bidirectio (None, 80, 128)           84480     \n",
            "_________________________________________________________________\n",
            "bidirectional_71 (Bidirectio (None, 80, 128)           98816     \n",
            "_________________________________________________________________\n",
            "bidirectional_72 (Bidirectio (None, 80, 200)           183200    \n",
            "_________________________________________________________________\n",
            "flatten_19 (Flatten)         (None, 16000)             0         \n",
            "_________________________________________________________________\n",
            "dense_64 (Dense)             (None, 2)                 32002     \n",
            "=================================================================\n",
            "Total params: 5,898,498\n",
            "Trainable params: 5,898,498\n",
            "Non-trainable params: 0\n",
            "_________________________________________________________________\n"
          ],
          "name": "stdout"
        }
      ]
    },
    {
      "cell_type": "code",
      "metadata": {
        "colab": {
          "base_uri": "https://localhost:8080/"
        },
        "id": "HgETwCprIYE2",
        "outputId": "d6342c23-27cb-4948-c6af-75aecae8263b"
      },
      "source": [
        "model.fit(X_train, Y_train, epochs=7, batch_size=64, verbose=2, validation_data=(X_valid, Y_valid)) #callbacks=[EarlyStopping(monitor='val_loss',min_delta=0.0001)]\n"
      ],
      "execution_count": 136,
      "outputs": [
        {
          "output_type": "stream",
          "text": [
            "Epoch 1/7\n",
            "1939/1939 - 167s - loss: 0.3198 - accuracy: 0.8598 - val_loss: 0.2747 - val_accuracy: 0.8797\n",
            "Epoch 2/7\n",
            "1939/1939 - 166s - loss: 0.1825 - accuracy: 0.9251 - val_loss: 0.2848 - val_accuracy: 0.8904\n",
            "Epoch 3/7\n",
            "1939/1939 - 166s - loss: 0.0938 - accuracy: 0.9629 - val_loss: 0.3328 - val_accuracy: 0.8910\n",
            "Epoch 4/7\n",
            "1939/1939 - 165s - loss: 0.0438 - accuracy: 0.9838 - val_loss: 0.4595 - val_accuracy: 0.8929\n",
            "Epoch 5/7\n",
            "1939/1939 - 164s - loss: 0.0249 - accuracy: 0.9903 - val_loss: 0.5904 - val_accuracy: 0.8875\n",
            "Epoch 6/7\n",
            "1939/1939 - 165s - loss: 0.0158 - accuracy: 0.9939 - val_loss: 0.7511 - val_accuracy: 0.8892\n",
            "Epoch 7/7\n",
            "1939/1939 - 165s - loss: 0.0118 - accuracy: 0.9955 - val_loss: 0.7230 - val_accuracy: 0.8832\n"
          ],
          "name": "stdout"
        },
        {
          "output_type": "execute_result",
          "data": {
            "text/plain": [
              "<tensorflow.python.keras.callbacks.History at 0x7f87347a0b70>"
            ]
          },
          "metadata": {
            "tags": []
          },
          "execution_count": 136
        }
      ]
    },
    {
      "cell_type": "code",
      "metadata": {
        "colab": {
          "base_uri": "https://localhost:8080/"
        },
        "id": "w3NpHG00KszO",
        "outputId": "1ee73382-df0c-4ff5-bdec-ba454a9d6503"
      },
      "source": [
        "model = Sequential()\n",
        "model.add(Embedding(max_features, size_of_embedding, input_length=X.shape[1]))\n",
        "model.add(Bidirectional (LSTM (64,return_sequences=True)))\n",
        "model.add(Bidirectional (LSTM (64,return_sequences=True)))\n",
        "model.add(Bidirectional (LSTM (64,return_sequences=True,dropout=0.50)))\n",
        "\n",
        "model.add(Flatten())\n",
        "\n",
        "model.add(Dense(2, activation='softmax'))\n",
        "model.compile(loss='binary_crossentropy', optimizer='adam', metrics=['accuracy'])\n",
        "\n",
        "model.summary()"
      ],
      "execution_count": 143,
      "outputs": [
        {
          "output_type": "stream",
          "text": [
            "Model: \"sequential_37\"\n",
            "_________________________________________________________________\n",
            "Layer (type)                 Output Shape              Param #   \n",
            "=================================================================\n",
            "embedding_47 (Embedding)     (None, 80, 100)           5500000   \n",
            "_________________________________________________________________\n",
            "bidirectional_73 (Bidirectio (None, 80, 128)           84480     \n",
            "_________________________________________________________________\n",
            "bidirectional_74 (Bidirectio (None, 80, 128)           98816     \n",
            "_________________________________________________________________\n",
            "bidirectional_75 (Bidirectio (None, 80, 128)           98816     \n",
            "_________________________________________________________________\n",
            "flatten_20 (Flatten)         (None, 10240)             0         \n",
            "_________________________________________________________________\n",
            "dense_65 (Dense)             (None, 2)                 20482     \n",
            "=================================================================\n",
            "Total params: 5,802,594\n",
            "Trainable params: 5,802,594\n",
            "Non-trainable params: 0\n",
            "_________________________________________________________________\n"
          ],
          "name": "stdout"
        }
      ]
    },
    {
      "cell_type": "code",
      "metadata": {
        "colab": {
          "base_uri": "https://localhost:8080/"
        },
        "id": "17kyVEyWKw1O",
        "outputId": "dd7713a7-a203-4eb5-fb46-a995ac685c56"
      },
      "source": [
        "model.fit(X_train, Y_train, epochs=10, batch_size=128, verbose=2, validation_data=(X_valid, Y_valid)) #callbacks=[EarlyStopping(monitor='val_loss',min_delta=0.0001)]\n"
      ],
      "execution_count": 144,
      "outputs": [
        {
          "output_type": "stream",
          "text": [
            "Epoch 1/10\n",
            "970/970 - 85s - loss: 0.3240 - accuracy: 0.8583 - val_loss: 0.2775 - val_accuracy: 0.8793\n",
            "Epoch 2/10\n",
            "970/970 - 83s - loss: 0.1914 - accuracy: 0.9219 - val_loss: 0.2737 - val_accuracy: 0.8892\n",
            "Epoch 3/10\n",
            "970/970 - 83s - loss: 0.1073 - accuracy: 0.9563 - val_loss: 0.3872 - val_accuracy: 0.8890\n",
            "Epoch 4/10\n",
            "970/970 - 83s - loss: 0.0574 - accuracy: 0.9769 - val_loss: 0.4690 - val_accuracy: 0.8870\n",
            "Epoch 5/10\n",
            "970/970 - 82s - loss: 0.0325 - accuracy: 0.9879 - val_loss: 0.6286 - val_accuracy: 0.8841\n",
            "Epoch 6/10\n",
            "970/970 - 83s - loss: 0.0199 - accuracy: 0.9926 - val_loss: 0.5663 - val_accuracy: 0.8857\n",
            "Epoch 7/10\n",
            "970/970 - 82s - loss: 0.0149 - accuracy: 0.9946 - val_loss: 0.6305 - val_accuracy: 0.8885\n",
            "Epoch 8/10\n",
            "970/970 - 82s - loss: 0.0120 - accuracy: 0.9955 - val_loss: 0.7791 - val_accuracy: 0.8893\n",
            "Epoch 9/10\n",
            "970/970 - 82s - loss: 0.0091 - accuracy: 0.9965 - val_loss: 0.8876 - val_accuracy: 0.8904\n",
            "Epoch 10/10\n",
            "970/970 - 82s - loss: 0.0081 - accuracy: 0.9968 - val_loss: 0.8430 - val_accuracy: 0.8853\n"
          ],
          "name": "stdout"
        },
        {
          "output_type": "execute_result",
          "data": {
            "text/plain": [
              "<tensorflow.python.keras.callbacks.History at 0x7f873478d4e0>"
            ]
          },
          "metadata": {
            "tags": []
          },
          "execution_count": 144
        }
      ]
    },
    {
      "cell_type": "code",
      "metadata": {
        "colab": {
          "base_uri": "https://localhost:8080/"
        },
        "id": "q6qcDprhOzvw",
        "outputId": "12f827ea-6bf4-43c1-f716-5d62ee753a37"
      },
      "source": [
        "model = Sequential()\n",
        "model.add(Embedding(max_features, size_of_embedding, input_length=X.shape[1]))\n",
        "model.add(Bidirectional (LSTM (64,return_sequences=True)))\n",
        "model.add(Bidirectional (LSTM (64,return_sequences=True)))\n",
        "model.add(Bidirectional (LSTM (100,return_sequences=True,dropout=0.50)))\n",
        "\n",
        "model.add(Flatten())\n",
        "\n",
        "model.add(Dense(2, activation='softmax'))\n",
        "model.compile(loss='binary_crossentropy', optimizer='adam', metrics=['accuracy'])\n",
        "\n",
        "model.summary()"
      ],
      "execution_count": 149,
      "outputs": [
        {
          "output_type": "stream",
          "text": [
            "Model: \"sequential_40\"\n",
            "_________________________________________________________________\n",
            "Layer (type)                 Output Shape              Param #   \n",
            "=================================================================\n",
            "embedding_50 (Embedding)     (None, 80, 100)           5500000   \n",
            "_________________________________________________________________\n",
            "bidirectional_82 (Bidirectio (None, 80, 128)           84480     \n",
            "_________________________________________________________________\n",
            "bidirectional_83 (Bidirectio (None, 80, 128)           98816     \n",
            "_________________________________________________________________\n",
            "bidirectional_84 (Bidirectio (None, 80, 200)           183200    \n",
            "_________________________________________________________________\n",
            "flatten_23 (Flatten)         (None, 16000)             0         \n",
            "_________________________________________________________________\n",
            "dense_68 (Dense)             (None, 2)                 32002     \n",
            "=================================================================\n",
            "Total params: 5,898,498\n",
            "Trainable params: 5,898,498\n",
            "Non-trainable params: 0\n",
            "_________________________________________________________________\n"
          ],
          "name": "stdout"
        }
      ]
    },
    {
      "cell_type": "code",
      "metadata": {
        "colab": {
          "base_uri": "https://localhost:8080/"
        },
        "id": "-2_0E8NvO0MR",
        "outputId": "800445c7-aa79-4d36-9a87-21198d2cd444"
      },
      "source": [
        "model.fit(X_train, Y_train, epochs=4, batch_size=50, verbose=2, validation_data=(X_valid, Y_valid)) #callbacks=[EarlyStopping(monitor='val_loss',min_delta=0.0001)]\n"
      ],
      "execution_count": 153,
      "outputs": [
        {
          "output_type": "stream",
          "text": [
            "Epoch 1/4\n",
            "2482/2482 - 208s - loss: 0.0211 - accuracy: 0.9922 - val_loss: 0.6660 - val_accuracy: 0.8932\n",
            "Epoch 2/4\n",
            "2482/2482 - 204s - loss: 0.0126 - accuracy: 0.9954 - val_loss: 0.7144 - val_accuracy: 0.8910\n",
            "Epoch 3/4\n",
            "2482/2482 - 203s - loss: 0.0099 - accuracy: 0.9963 - val_loss: 0.7640 - val_accuracy: 0.8870\n",
            "Epoch 4/4\n",
            "2482/2482 - 201s - loss: 0.0078 - accuracy: 0.9971 - val_loss: 0.7328 - val_accuracy: 0.8970\n"
          ],
          "name": "stdout"
        },
        {
          "output_type": "execute_result",
          "data": {
            "text/plain": [
              "<tensorflow.python.keras.callbacks.History at 0x7f86ffd35518>"
            ]
          },
          "metadata": {
            "tags": []
          },
          "execution_count": 153
        }
      ]
    },
    {
      "cell_type": "code",
      "metadata": {
        "colab": {
          "base_uri": "https://localhost:8080/"
        },
        "id": "Y3xFhEhGU5q9",
        "outputId": "0683c07a-87a0-486e-f6c5-c92d07433fdd"
      },
      "source": [
        "loss, accuracy = model.evaluate(X_test, Y_test, verbose=2)\n",
        "print(\"Loss:\",loss,\"Accuracy:\",str(accuracy*100)+'%')"
      ],
      "execution_count": 156,
      "outputs": [
        {
          "output_type": "stream",
          "text": [
            "485/485 - 5s - loss: 0.7589 - accuracy: 0.8922\n",
            "Loss: 0.7588828802108765 Accuracy: 89.21846747398376%\n"
          ],
          "name": "stdout"
        }
      ]
    },
    {
      "cell_type": "code",
      "metadata": {
        "colab": {
          "base_uri": "https://localhost:8080/"
        },
        "id": "E6QliZauU-5f",
        "outputId": "0e81d63a-cc4d-4ba2-9390-e1c479d220cf"
      },
      "source": [
        "from sklearn.metrics import classification_report,confusion_matrix\n",
        "y_pred =np.argmax(model.predict(X_test), axis=-1)\n",
        "y_pred"
      ],
      "execution_count": 164,
      "outputs": [
        {
          "output_type": "execute_result",
          "data": {
            "text/plain": [
              "array([0, 1, 1, ..., 0, 0, 1])"
            ]
          },
          "metadata": {
            "tags": []
          },
          "execution_count": 164
        }
      ]
    },
    {
      "cell_type": "code",
      "metadata": {
        "colab": {
          "base_uri": "https://localhost:8080/",
          "height": 499
        },
        "id": "M-f3VMfFcwSE",
        "outputId": "124168c2-b532-4a8e-be44-2ee27a150f8d"
      },
      "source": [
        "#Y_pred = model.predict_classes(X_test)\n",
        "y_test = []\n",
        "for test in Y_test:\n",
        "  if test[0]==1:\n",
        "    y_test.append(0)\n",
        "  else:\n",
        "    y_test.append(1)\n",
        "  #print(test[0],\"-\",test[1])\n",
        "  #break\n",
        "y_test = np.array(y_test)\n",
        "print('  Classification Report:\\n',classification_report(y_test,y_pred),'\\n')\n",
        "cm = confusion_matrix(y_test, y_pred, labels=[1,0])\n",
        "ax= plt.subplot()\n",
        "sns.heatmap(cm, annot=True, ax = ax, cmap='Blues', fmt=\"d\")\n",
        "\n",
        "ax.set_title('Confusion Matrix')\n",
        "\n",
        "ax.set_xlabel('Predicted Labels')\n",
        "ax.set_ylabel('True Labels')\n",
        "\n",
        "ax.xaxis.set_ticklabels(['NON-PROPAGANDA', 'PROPAGANDA'])\n",
        "ax.yaxis.set_ticklabels(['NON-PROPAGANDA', 'PROPAGANDA'])"
      ],
      "execution_count": 185,
      "outputs": [
        {
          "output_type": "stream",
          "text": [
            "  Classification Report:\n",
            "               precision    recall  f1-score   support\n",
            "\n",
            "           0       0.89      0.90      0.89      7718\n",
            "           1       0.90      0.89      0.89      7790\n",
            "\n",
            "    accuracy                           0.89     15508\n",
            "   macro avg       0.89      0.89      0.89     15508\n",
            "weighted avg       0.89      0.89      0.89     15508\n",
            " \n",
            "\n"
          ],
          "name": "stdout"
        },
        {
          "output_type": "execute_result",
          "data": {
            "text/plain": [
              "[Text(0, 0.5, 'NON-PROPAGANDA'), Text(0, 1.5, 'PROPAGANDA')]"
            ]
          },
          "metadata": {
            "tags": []
          },
          "execution_count": 185
        },
        {
          "output_type": "display_data",
          "data": {
            "image/png": "[encoded data removed]",
            "text/plain": [
              "<Figure size 432x288 with 2 Axes>"
            ]
          },
          "metadata": {
            "tags": [],
            "needs_background": "light"
          }
        }
      ]
    },
    {
      "cell_type": "code",
      "metadata": {
        "id": "j6aWNChTedA-"
      },
      "source": [
        ""
      ],
      "execution_count": null,
      "outputs": []
    }
  ]
}